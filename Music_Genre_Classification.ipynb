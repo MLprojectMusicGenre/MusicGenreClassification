{
 "cells": [
  {
   "cell_type": "code",
   "execution_count": 50,
   "metadata": {},
   "outputs": [],
   "source": [
    "# Import libraries\n",
    "import pandas as pd\n",
    "import numpy as np\n",
    "import matplotlib.pyplot as plt\n",
    "import keras\n",
    "from keras.utils import np_utils\n",
    "from keras.models import Sequential\n",
    "from keras.layers import Dense, Activation\n",
    "import matplotlib.pyplot as plt\n",
    "import sklearn\n",
    "#...\n",
    "# YOUR CODE HERE"
   ]
  },
  {
   "cell_type": "code",
   "execution_count": 51,
   "metadata": {},
   "outputs": [
    {
     "name": "stderr",
     "output_type": "stream",
     "text": [
      "/Applications/anaconda/envs/myenv/lib/python3.6/site-packages/ipykernel_launcher.py:7: FutureWarning: Method .as_matrix will be removed in a future version. Use .values instead.\n",
      "  import sys\n",
      "/Applications/anaconda/envs/myenv/lib/python3.6/site-packages/ipykernel_launcher.py:8: FutureWarning: Method .as_matrix will be removed in a future version. Use .values instead.\n",
      "  \n",
      "/Applications/anaconda/envs/myenv/lib/python3.6/site-packages/ipykernel_launcher.py:9: FutureWarning: Method .as_matrix will be removed in a future version. Use .values instead.\n",
      "  if __name__ == '__main__':\n",
      "/Applications/anaconda/envs/myenv/lib/python3.6/site-packages/ipykernel_launcher.py:19: FutureWarning: Method .as_matrix will be removed in a future version. Use .values instead.\n"
     ]
    },
    {
     "data": {
      "text/plain": [
       "array([['1'],\n",
       "       ['1'],\n",
       "       ['1'],\n",
       "       ...,\n",
       "       ['2'],\n",
       "       ['5'],\n",
       "       ['2']], dtype=object)"
      ]
     },
     "execution_count": 51,
     "metadata": {},
     "output_type": "execute_result"
    }
   ],
   "source": [
    "# Load the data and cleanup\n",
    "x_test_df = pd.read_csv('test_data.csv', header = None)\n",
    "x_train_df = pd.read_csv('train_data.csv', header = None)\n",
    "y_train_df = pd.read_csv('train_labels.csv', header = None)\n",
    "\n",
    "#Convert the dataframe to numpy matrix\n",
    "x_test = x_test_df.as_matrix()\n",
    "x_train = x_train_df.as_matrix()\n",
    "y_train = y_train_df.as_matrix()\n",
    "\n",
    "\n",
    "y_train_dummy =  keras.utils.to_categorical(y_train)\n",
    "#test_label_dummy = keras.utils.to_categorical(test_label)\n",
    "np.unique(y_train)\n",
    "#plt.hist(y_train, bins = 10)\n",
    "y_train_dummy.shape\n",
    "\n",
    "y_train_df_category = y_train_df.astype('str')\n",
    "y_train_category = y_train_df_category.as_matrix()\n",
    "y_train_category\n"
   ]
  },
  {
   "cell_type": "code",
   "execution_count": 52,
   "metadata": {},
   "outputs": [],
   "source": [
    "#Analysis of the input data\n",
    "# ...\n",
    "#model = Sequential()\n",
    "#model.add(Dense(300, activation='relu', input_dim=264))\n",
    "#model.add(Dense(30, activation = 'relu'))\n",
    "#model.add(Dense(11, activation='softmax'))\n",
    "#model.compile(optimizer='rmsprop',loss='categorical_crossentropy',metrics=['accuracy'])\n",
    "#model.fit(x_train, y_train_dummy, batch_size=60, epochs=10)\n",
    "#from keras.applications import VGG16, VGG19\n",
    "\n"
   ]
  },
  {
   "cell_type": "code",
   "execution_count": 53,
   "metadata": {},
   "outputs": [],
   "source": [
    "#vgg16_model = keras.applications.vgg16.VGG16()"
   ]
  },
  {
   "cell_type": "code",
   "execution_count": 54,
   "metadata": {},
   "outputs": [],
   "source": [
    "#vgg16_model.summary()"
   ]
  },
  {
   "cell_type": "code",
   "execution_count": 20,
   "metadata": {},
   "outputs": [
    {
     "name": "stdout",
     "output_type": "stream",
     "text": [
      "Epoch 1/10\n",
      "4363/4363 [==============================] - 2s 400us/step - loss: 15.2241 - acc: 0.0555\n",
      "Epoch 2/10\n",
      "4363/4363 [==============================] - 1s 155us/step - loss: 15.2241 - acc: 0.0555\n",
      "Epoch 3/10\n",
      "4363/4363 [==============================] - 1s 176us/step - loss: 15.2241 - acc: 0.0555\n",
      "Epoch 4/10\n",
      "4363/4363 [==============================] - 1s 170us/step - loss: 15.2241 - acc: 0.0555\n",
      "Epoch 5/10\n",
      "4363/4363 [==============================] - 1s 175us/step - loss: 15.2241 - acc: 0.0555\n",
      "Epoch 6/10\n",
      "4363/4363 [==============================] - 1s 169us/step - loss: 15.2241 - acc: 0.0555\n",
      "Epoch 7/10\n",
      "4363/4363 [==============================] - 1s 152us/step - loss: 15.2241 - acc: 0.0555\n",
      "Epoch 8/10\n",
      "4363/4363 [==============================] - 1s 148us/step - loss: 15.2241 - acc: 0.0555\n",
      "Epoch 9/10\n",
      "4363/4363 [==============================] - 1s 146us/step - loss: 15.2241 - acc: 0.0555\n",
      "Epoch 10/10\n",
      "4363/4363 [==============================] - 1s 146us/step - loss: 15.2241 - acc: 0.0555\n"
     ]
    },
    {
     "data": {
      "text/plain": [
       "<keras.callbacks.History at 0xd459da6d8>"
      ]
     },
     "execution_count": 20,
     "metadata": {},
     "output_type": "execute_result"
    }
   ],
   "source": [
    "model = Sequential()\n",
    "model.add(Dense(300, activation='relu', input_dim=264))\n",
    "model.add(Dense(30, activation = 'relu'))\n",
    "model.add(Dense(11, activation='softmax'))\n",
    "model.compile(optimizer='rmsprop',loss='categorical_crossentropy',metrics=['accuracy'])\n",
    "model.fit(x_train, y_train_dummy, batch_size=60, epochs=10)"
   ]
  },
  {
   "cell_type": "code",
   "execution_count": null,
   "metadata": {},
   "outputs": [],
   "source": []
  },
  {
   "cell_type": "code",
   "execution_count": 48,
   "metadata": {},
   "outputs": [
    {
     "name": "stderr",
     "output_type": "stream",
     "text": [
      "/Applications/anaconda/envs/myenv/lib/python3.6/site-packages/sklearn/utils/validation.py:752: DataConversionWarning: A column-vector y was passed when a 1d array was expected. Please change the shape of y to (n_samples, ), for example using ravel().\n",
      "  y = column_or_1d(y, warn=True)\n",
      "/Applications/anaconda/envs/myenv/lib/python3.6/site-packages/sklearn/linear_model/logistic.py:757: ConvergenceWarning: lbfgs failed to converge. Increase the number of iterations.\n",
      "  \"of iterations.\", ConvergenceWarning)\n"
     ]
    }
   ],
   "source": [
    "#Logistic regression\n",
    "from sklearn.linear_model import LogisticRegression # import logistic package\n",
    "from sklearn.metrics import accuracy_score\n",
    "from sklearn import datasets\n",
    "from sklearn import metrics\n",
    "\n",
    "logreg = LogisticRegression(C=1e5, solver='lbfgs', multi_class='multinomial')\n",
    "logreg.fit(x_train, y_train)\n",
    "prediction = logreg.predict(x_test)\n",
    "\n",
    "solution_accuracy = {'Sample_id': np.arange(1, 6545, 1), 'Sample_label': prediction}\n",
    "\n",
    "df = pd.DataFrame(solution_accuracy)\n",
    "\n",
    "df.to_csv(\"solution_LR.csv\",index = False)"
   ]
  },
  {
   "cell_type": "code",
   "execution_count": 22,
   "metadata": {},
   "outputs": [
    {
     "name": "stdout",
     "output_type": "stream",
     "text": [
      "Logistic Regression Confusion Matrix :\n",
      "<function confusion_matrix at 0xd4158cc80>\n",
      "Logistic Regression Report Classification: \n",
      "              precision    recall  f1-score   support\n",
      "\n",
      "           1       1.00      0.77      0.87      6544\n",
      "           2       0.00      0.00      0.00         0\n",
      "           3       0.00      0.00      0.00         0\n",
      "           4       0.00      0.00      0.00         0\n",
      "           6       0.00      0.00      0.00         0\n",
      "           8       0.00      0.00      0.00         0\n",
      "          10       0.00      0.00      0.00         0\n",
      "\n",
      "   micro avg       0.77      0.77      0.77      6544\n",
      "   macro avg       0.14      0.11      0.12      6544\n",
      "weighted avg       1.00      0.77      0.87      6544\n",
      "\n"
     ]
    }
   ],
   "source": [
    "print('Logistic Regression Confusion Matrix :')\n",
    "print(confusion_matrix)\n",
    "print('Logistic Regression Report Classification: ')\n",
    "print(report_classification)"
   ]
  },
  {
   "cell_type": "code",
   "execution_count": 11,
   "metadata": {},
   "outputs": [],
   "source": [
    "#from sklearn.model_selection import cross_val_score\n",
    "#cross_val = cross_val_score(LogisticRegression(), x_test, y_test[:,1], scoring='accuracy', cv=10)\n"
   ]
  },
  {
   "cell_type": "code",
   "execution_count": 12,
   "metadata": {},
   "outputs": [],
   "source": [
    "#https://www.datacamp.com/community/tutorials/random-forests-classifier-python"
   ]
  },
  {
   "cell_type": "code",
   "execution_count": 45,
   "metadata": {},
   "outputs": [
    {
     "name": "stderr",
     "output_type": "stream",
     "text": [
      "/Applications/anaconda/envs/myenv/lib/python3.6/site-packages/ipykernel_launcher.py:7: DataConversionWarning: A column-vector y was passed when a 1d array was expected. Please change the shape of y to (n_samples,), for example using ravel().\n",
      "  import sys\n"
     ]
    }
   ],
   "source": [
    "#Random Forest\n",
    "\n",
    "from sklearn.ensemble import RandomForestClassifier\n",
    "\n",
    "RandomForest_model = RandomForestClassifier(n_estimators=20, random_state=0)  \n",
    "RandomForest_model.fit(x_train, y_train)  \n",
    "RF_predictions = RandomForest_model.predict(x_test)  \n",
    "\n"
   ]
  },
  {
   "cell_type": "code",
   "execution_count": 49,
   "metadata": {},
   "outputs": [],
   "source": [
    "from sklearn.metrics import classification_report, confusion_matrix, accuracy_score\n",
    "\n",
    "solution_accuracy = {'Sample_id': np.arange(1, 6545, 1), 'Sample_label': RF_predictions}\n",
    "df = pd.DataFrame(solution_accuracy)\n",
    "df.to_csv(\"solution_RF.csv\",index = False)"
   ]
  },
  {
   "cell_type": "code",
   "execution_count": 71,
   "metadata": {},
   "outputs": [
    {
     "name": "stderr",
     "output_type": "stream",
     "text": [
      "/Applications/anaconda/envs/myenv/lib/python3.6/site-packages/sklearn/utils/validation.py:752: DataConversionWarning: A column-vector y was passed when a 1d array was expected. Please change the shape of y to (n_samples, ), for example using ravel().\n",
      "  y = column_or_1d(y, warn=True)\n"
     ]
    }
   ],
   "source": [
    "#SVC\n",
    "\n",
    "X = x_train\n",
    "y = y_train\n",
    "from sklearn.svm import SVC\n",
    "\n",
    "clf = SVC(C=0.5, class_weight = None, gamma='auto', kernel = 'rbf')\n",
    "clf.fit(X, y) \n",
    "\n",
    "prediction = clf.predict(x_test)"
   ]
  },
  {
   "cell_type": "code",
   "execution_count": 68,
   "metadata": {},
   "outputs": [],
   "source": [
    "solution_accuracy = {'Sample_id': np.arange(1, 6545, 1), 'Sample_label': prediction}\n",
    "\n",
    "df = pd.DataFrame(solution_accuracy)\n",
    "\n",
    "df.to_csv(\"solution_SVC.csv\",index = False)"
   ]
  },
  {
   "cell_type": "code",
   "execution_count": null,
   "metadata": {},
   "outputs": [],
   "source": []
  },
  {
   "cell_type": "code",
   "execution_count": null,
   "metadata": {},
   "outputs": [],
   "source": []
  }
 ],
 "metadata": {
  "kernelspec": {
   "display_name": "Python 3",
   "language": "python",
   "name": "python3"
  },
  "language_info": {
   "codemirror_mode": {
    "name": "ipython",
    "version": 3
   },
   "file_extension": ".py",
   "mimetype": "text/x-python",
   "name": "python",
   "nbconvert_exporter": "python",
   "pygments_lexer": "ipython3",
   "version": "3.6.5"
  }
 },
 "nbformat": 4,
 "nbformat_minor": 2
}
